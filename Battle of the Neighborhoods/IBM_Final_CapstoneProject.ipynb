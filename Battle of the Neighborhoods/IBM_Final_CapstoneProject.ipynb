{
 "cells": [
  {
   "cell_type": "markdown",
   "source": [
    "<div class=\"section-inner sectionLayout--insetColumn\">\n",
    "<h2 name=\"fdbd\" class=\"graf graf--h2 graf--leading\">\n",
    "<strong class=\"markup--strong markup--h2-strong\">The Business Problem&#8202;—&#8202;Description:</strong></h2>\n",
    "<p name=\"ca01\" class=\"graf graf--p graf-after--h2\">\n",
    "\n",
    "---"
   ],
   "metadata": {
    "collapsed": false,
    "pycharm": {
     "name": "#%% md\n"
    }
   }
  },
  {
   "cell_type": "markdown",
   "source": [
    "For this project, I am going to utilize the Foursquare API for referencing\n",
    "<strong class=\"markup--strong markup--p-strong\">location data in the Boston, MA</strong> area.\n",
    "This data will allow us to report on and provide feedback to interested parties\n",
    "<strong class=\"markup--strong markup--p-strong\">looking to open a restaurant</strong>.</p>\n",
    "<p name=\"9c9a\" class=\"graf graf--p graf-after--p\">Boston, MA is a very popular city when it comes to nightlife and\n",
    "entertainment as well as its ratings for recommended restaurants. With this in mind,\n",
    "I would want to <strong class=\"markup--strong markup--p-strong\">identify all of the locations that are not overly\n",
    "crowded</strong>, in terms of the <em class=\"markup--em markup--p-em\">number of restaurants</em>\n",
    "(this may setup a new hot-spot location for more restaurants to follow). BUT, I want to remain in a popular\n",
    "tourist area as to not stray from high traffic neighborhoods.</p>\n",
    "<p name=\"ee85\" class=\"graf graf--p graf-after--p\">\n",
    "With the use of Python and its vast amount of Data Science libraries, I can accurately predict where to set-up\n",
    "shop for a new restaurant (or at least recommend).</p>"
   ],
   "metadata": {
    "collapsed": false,
    "pycharm": {
     "name": "#%% md\n"
    }
   }
  },
  {
   "cell_type": "markdown",
   "source": [
    "<h2 name=\"24c2\" class=\"graf graf--h2 graf-after--p\">The Data</h2>\n",
    "\n",
    "---"
   ],
   "metadata": {
    "collapsed": false,
    "pycharm": {
     "name": "#%% md\n"
    }
   }
  },
  {
   "cell_type": "markdown",
   "source": [
    "<p name=\"7ed6\" class=\"graf graf--p graf-after--h2\">Following the Business Problem, the data necessary to achieve\n",
    "accuracy will need to account for situations and factors such as:</p>\n",
    "<ul class=\"postList\">\n",
    "<li name=\"d00f\" class=\"graf graf--li graf-after--p\">Demographic information, e.g. population, density, education,\n",
    "age, income</li>\n",
    "<li name=\"2ee1\" class=\"graf graf--li graf-after--li\">Number of tourist attractions in the neighborhood\n",
    "and/or nearby</li>\n",
    "<li name=\"6356\" class=\"graf graf--li graf-after--li\">Number of existing restaurants in the neighborhood\n",
    "and/or nearby</li>\n",
    "<li name=\"7a32\" class=\"graf graf--li graf-after--li\">Total traffic in the different neighborhoods (more populated\n",
    "the better)</li>\n",
    "</ul>"
   ],
   "metadata": {
    "collapsed": false,
    "pycharm": {
     "name": "#%% md\n"
    }
   }
  },
  {
   "cell_type": "markdown",
   "source": [
    "<p name=\"3a94\" class=\"graf graf--p graf-after--li\">I am going to stay within a certain radius of the city center,\n",
    "for defining our neighborhoods in a grid-like fashion:</p>\n",
    "<ul class=\"postList\">\n",
    "<li name=\"629f\" class=\"graf graf--li graf-after--p\">Centers of potential locations will be generated with the use\n",
    " of algorithms and approximate addresses of the potential centers</li>\n",
    " <li name=\"f13f\" class=\"graf graf--li graf-after--li\">Center locations will be obtained using\n",
    " <strong class=\"markup--strong markup--li-strong\">Google Maps API reverse geocoding</strong>, and the use of\n",
    " <strong class=\"markup--strong markup--li-strong\">Google Maps API geocoding </strong>for obtaining location\n",
    " coordinates.</li>\n",
    " <li name=\"ae03\" class=\"graf graf--li graf-after--li graf--trailing\">The number of restaurants and their\n",
    " type/location in every neighborhood will be obtained using <strong class=\"markup--strong markup--li-strong\">Foursquare\n",
    " API</strong></li>\n",
    " </ul>\n",
    " </div>\n",
    " "
   ],
   "metadata": {
    "collapsed": false,
    "pycharm": {
     "name": "#%% md\n"
    }
   }
  },
  {
   "cell_type": "code",
   "execution_count": null,
   "outputs": [],
   "source": [],
   "metadata": {
    "collapsed": false,
    "pycharm": {
     "name": "#%%\n"
    }
   }
  }
 ],
 "metadata": {
  "kernelspec": {
   "display_name": "Python 3",
   "language": "python",
   "name": "python3"
  },
  "language_info": {
   "codemirror_mode": {
    "name": "ipython",
    "version": 2
   },
   "file_extension": ".py",
   "mimetype": "text/x-python",
   "name": "python",
   "nbconvert_exporter": "python",
   "pygments_lexer": "ipython2",
   "version": "2.7.6"
  }
 },
 "nbformat": 4,
 "nbformat_minor": 0
}