{
 "cells": [
  {
   "cell_type": "markdown",
   "source": [
    "<h2><center>Analyzing Location data for suggesting a new Restaurant - Python Date Science</center></h2>\n",
    "\n",
    "---"
   ],
   "metadata": {
    "collapsed": false,
    "pycharm": {
     "name": "#%% md\n"
    }
   }
  },
  {
   "cell_type": "markdown",
   "source": [
    "<div class=\"section-inner sectionLayout--insetColumn\">\n",
    "<h3 name=\"fdbd\" class=\"graf graf--h3 graf--leading\">\n",
    "<strong class=\"markup--strong markup--h3-strong\">The Business Plan&#8202;—&#8202;Short summary:</strong></h3>\n",
    "<p name=\"ca01\" class=\"graf graf--p graf-after--h3\">"
   ],
   "metadata": {
    "collapsed": false
   }
  },
  {
   "cell_type": "markdown",
   "source": [
    "For this project, I am going to utilize the Foursquare API for referencing\n",
    "<strong class=\"markup--strong markup--p-strong\">location data in the Boston, MA</strong> area.\n",
    "This data will allow us to report on and provide feedback to interested parties\n",
    "<strong class=\"markup--strong markup--p-strong\">looking to open a restaurant</strong>.</p>\n"
   ],
   "metadata": {
    "collapsed": false
   }
  },
  {
   "cell_type": "markdown",
   "source": [
    "### Getting Started"
   ],
   "metadata": {
    "collapsed": false,
    "pycharm": {
     "name": "#%% md\n"
    }
   }
  },
  {
   "cell_type": "code",
   "execution_count": 1,
   "outputs": [
    {
     "name": "stdout",
     "output_type": "stream",
     "text": [
      "Libraries imported.\n"
     ]
    }
   ],
   "source": [
    "# import the proper libraries\n",
    "import numpy as np # library to handle data in a vectorized manner\n",
    "import pandas as pd # library for data analysis\n",
    "\n",
    "import json # library to handle JSON files\n",
    "from geopy.geocoders import Nominatim # convert an address into latitude and longitude values\n",
    "import requests # library to handle requests\n",
    "\n",
    "# Matplotlib and associated plotting modules\n",
    "import matplotlib.cm as cm\n",
    "import matplotlib.colors as colors\n",
    "\n",
    "# import k-means from clustering stage\n",
    "from sklearn.cluster import KMeans\n",
    "import folium # map rendering library\n",
    "\n",
    "print('Libraries imported.')\n"
   ],
   "metadata": {
    "collapsed": false,
    "pycharm": {
     "name": "#%%\n"
    }
   }
  },
  {
   "cell_type": "markdown",
   "source": [
    "#### Download and Explore Dataset"
   ],
   "metadata": {
    "collapsed": false
   }
  },
  {
   "cell_type": "code",
   "execution_count": 2,
   "outputs": [
    {
     "data": {
      "text/plain": "'boston_data.json'"
     },
     "execution_count": 2,
     "metadata": {},
     "output_type": "execute_result"
    }
   ],
   "source": [
    "import wget\n",
    "\n",
    "## GeoJSON Data\n",
    "\n",
    "wget.download(\n",
    "    'https://mapservices.bostonredevelopmentauthority.org/arcproxy/arcgis/rest/services/Maps/Bos_Neighborhoods_2018/mapserver/0/query?where=1%3D1&outFields=OBJECTID,Name,Neighborhood_ID,SqMiles&outSR=4326&f=json',\n",
    "    'boston_data.json'\n",
    ")"
   ],
   "metadata": {
    "collapsed": false,
    "pycharm": {
     "name": "#%%\n"
    }
   }
  },
  {
   "cell_type": "code",
   "execution_count": 3,
   "outputs": [],
   "source": [
    "with open('boston_data.json') as json_data:\n",
    "    boston_data = json.load(json_data)"
   ],
   "metadata": {
    "collapsed": false,
    "pycharm": {
     "name": "#%%\n"
    }
   }
  },
  {
   "cell_type": "markdown",
   "source": [
    "Looking at the raw data, the **features** key holds the relevant neighborhood data."
   ],
   "metadata": {
    "collapsed": false,
    "pycharm": {
     "name": "#%% md\n"
    }
   }
  },
  {
   "cell_type": "code",
   "execution_count": 4,
   "outputs": [],
   "source": [
    "boston_neighborhoods = boston_data['features']"
   ],
   "metadata": {
    "collapsed": false,
    "pycharm": {
     "name": "#%%\n"
    }
   }
  },
  {
   "cell_type": "markdown",
   "source": [
    "#### Transform the data into a *pandas* dataframe"
   ],
   "metadata": {
    "collapsed": false,
    "pycharm": {
     "name": "#%% md\n"
    }
   }
  },
  {
   "cell_type": "code",
   "execution_count": 5,
   "outputs": [],
   "source": [
    "# define the dataframe columns\n",
    "column_names = ['Neighborhood', 'Neighborhood_ID', 'SqMiles','Latitude', 'Longitude']\n",
    "\n",
    "# instantiate the dataframe\n",
    "neighborhoods = pd.DataFrame(columns=column_names)"
   ],
   "metadata": {
    "collapsed": false,
    "pycharm": {
     "name": "#%%\n"
    }
   }
  },
  {
   "cell_type": "markdown",
   "source": [
    "Let's loop through the data and fill the dataframe one row at a time."
   ],
   "metadata": {
    "collapsed": false
   }
  },
  {
   "cell_type": "code",
   "execution_count": 16,
   "outputs": [],
   "source": [
    "for data in boston_neighborhoods:\n",
    "    neighborhood_name = data['attributes']['Name']\n",
    "    neighborhood_id = data['attributes']['Neighborhood_ID']\n",
    "    neighborhood_size = data['attributes']['SqMiles']\n",
    "    neighborhood_latlon = data['geometry']['rings'][:1]\n",
    "    neighborhood_lat = neighborhood_latlon[0]\n",
    "    neighborhood_lon = neighborhood_latlon[0]\n",
    "\n",
    "    neighborhoods = neighborhoods.append({'Neighborhood': neighborhood_name,\n",
    "                                          'Neighborhood_ID': neighborhood_id,\n",
    "                                          'SqMiles': neighborhood_size,\n",
    "                                          'Latitude': neighborhood_lat,\n",
    "                                          'Longitude': neighborhood_lon}, ignore_index=True)"
   ],
   "metadata": {
    "collapsed": false,
    "pycharm": {
     "name": "#%%\n"
    }
   }
  },
  {
   "cell_type": "markdown",
   "source": [
    "Quickly examine the resulting dataframe."
   ],
   "metadata": {
    "collapsed": false,
    "pycharm": {
     "name": "#%% md\n"
    }
   }
  },
  {
   "cell_type": "code",
   "execution_count": 17,
   "outputs": [
    {
     "data": {
      "text/plain": "       Neighborhood Neighborhood_ID  SqMiles  \\\n0        Roslindale              15     2.51   \n1        Roslindale              15     2.51   \n2        Roslindale              15     2.51   \n3        Roslindale              15     2.51   \n4     Jamaica Plain              11     3.94   \n5      Mission Hill              13     0.55   \n6          Longwood              28     0.29   \n7       Bay Village              33     0.04   \n8  Leather District              27     0.02   \n9         Chinatown              26     0.12   \n\n                                            Latitude  \\\n0  [[-71.12583076676759, 42.272212845889705], [-7...   \n1  [[-71.12583076676759, 42.272212845889705], [-7...   \n2             [-71.1257672032289, 42.27231595853639]   \n3  [[-71.12592717485386, 42.272013107957406], [-7...   \n4  [[-71.10499218689807, 42.326101682808066], [-7...   \n5  [[-71.0904343142608, 42.33576996328494], [-71....   \n6  [[-71.09810894210769, 42.33673037764089], [-71...   \n7  [[-71.06662924918761, 42.34878268384542], [-71...   \n8  [[-71.05837839326242, 42.349831092881075], [-7...   \n9  [[-71.0579055147603, 42.35237863170756], [-71....   \n\n                                           Longitude  \n0  [[-71.12592717485386, 42.272013107957406], [-7...  \n1  [[-71.12592717485386, 42.272013107957406], [-7...  \n2           [-71.12583076676759, 42.272212845889705]  \n3  [[-71.12592717485386, 42.272013107957406], [-7...  \n4  [[-71.10499218689807, 42.326101682808066], [-7...  \n5  [[-71.0904343142608, 42.33576996328494], [-71....  \n6  [[-71.09810894210769, 42.33673037764089], [-71...  \n7  [[-71.06662924918761, 42.34878268384542], [-71...  \n8  [[-71.05837839326242, 42.349831092881075], [-7...  \n9  [[-71.0579055147603, 42.35237863170756], [-71....  ",
      "text/html": "<div>\n<style scoped>\n    .dataframe tbody tr th:only-of-type {\n        vertical-align: middle;\n    }\n\n    .dataframe tbody tr th {\n        vertical-align: top;\n    }\n\n    .dataframe thead th {\n        text-align: right;\n    }\n</style>\n<table border=\"1\" class=\"dataframe\">\n  <thead>\n    <tr style=\"text-align: right;\">\n      <th></th>\n      <th>Neighborhood</th>\n      <th>Neighborhood_ID</th>\n      <th>SqMiles</th>\n      <th>Latitude</th>\n      <th>Longitude</th>\n    </tr>\n  </thead>\n  <tbody>\n    <tr>\n      <th>0</th>\n      <td>Roslindale</td>\n      <td>15</td>\n      <td>2.51</td>\n      <td>[[-71.12583076676759, 42.272212845889705], [-7...</td>\n      <td>[[-71.12592717485386, 42.272013107957406], [-7...</td>\n    </tr>\n    <tr>\n      <th>1</th>\n      <td>Roslindale</td>\n      <td>15</td>\n      <td>2.51</td>\n      <td>[[-71.12583076676759, 42.272212845889705], [-7...</td>\n      <td>[[-71.12592717485386, 42.272013107957406], [-7...</td>\n    </tr>\n    <tr>\n      <th>2</th>\n      <td>Roslindale</td>\n      <td>15</td>\n      <td>2.51</td>\n      <td>[-71.1257672032289, 42.27231595853639]</td>\n      <td>[-71.12583076676759, 42.272212845889705]</td>\n    </tr>\n    <tr>\n      <th>3</th>\n      <td>Roslindale</td>\n      <td>15</td>\n      <td>2.51</td>\n      <td>[[-71.12592717485386, 42.272013107957406], [-7...</td>\n      <td>[[-71.12592717485386, 42.272013107957406], [-7...</td>\n    </tr>\n    <tr>\n      <th>4</th>\n      <td>Jamaica Plain</td>\n      <td>11</td>\n      <td>3.94</td>\n      <td>[[-71.10499218689807, 42.326101682808066], [-7...</td>\n      <td>[[-71.10499218689807, 42.326101682808066], [-7...</td>\n    </tr>\n    <tr>\n      <th>5</th>\n      <td>Mission Hill</td>\n      <td>13</td>\n      <td>0.55</td>\n      <td>[[-71.0904343142608, 42.33576996328494], [-71....</td>\n      <td>[[-71.0904343142608, 42.33576996328494], [-71....</td>\n    </tr>\n    <tr>\n      <th>6</th>\n      <td>Longwood</td>\n      <td>28</td>\n      <td>0.29</td>\n      <td>[[-71.09810894210769, 42.33673037764089], [-71...</td>\n      <td>[[-71.09810894210769, 42.33673037764089], [-71...</td>\n    </tr>\n    <tr>\n      <th>7</th>\n      <td>Bay Village</td>\n      <td>33</td>\n      <td>0.04</td>\n      <td>[[-71.06662924918761, 42.34878268384542], [-71...</td>\n      <td>[[-71.06662924918761, 42.34878268384542], [-71...</td>\n    </tr>\n    <tr>\n      <th>8</th>\n      <td>Leather District</td>\n      <td>27</td>\n      <td>0.02</td>\n      <td>[[-71.05837839326242, 42.349831092881075], [-7...</td>\n      <td>[[-71.05837839326242, 42.349831092881075], [-7...</td>\n    </tr>\n    <tr>\n      <th>9</th>\n      <td>Chinatown</td>\n      <td>26</td>\n      <td>0.12</td>\n      <td>[[-71.0579055147603, 42.35237863170756], [-71....</td>\n      <td>[[-71.0579055147603, 42.35237863170756], [-71....</td>\n    </tr>\n  </tbody>\n</table>\n</div>"
     },
     "execution_count": 17,
     "metadata": {},
     "output_type": "execute_result"
    }
   ],
   "source": [
    "neighborhoods.head(10)\n"
   ],
   "metadata": {
    "collapsed": false,
    "pycharm": {
     "name": "#%%\n"
    }
   }
  },
  {
   "cell_type": "markdown",
   "source": [
    "Get a count of the total number of neighborhoods in Boston"
   ],
   "metadata": {
    "collapsed": false
   }
  },
  {
   "cell_type": "code",
   "execution_count": 18,
   "outputs": [
    {
     "name": "stdout",
     "output_type": "stream",
     "text": [
      "Boston has a total of 26 neighborhoods.\n"
     ]
    }
   ],
   "source": [
    "print('Boston has a total of {} neighborhoods.'.format(\n",
    "        len(neighborhoods['Neighborhood'].unique())\n",
    "))"
   ],
   "metadata": {
    "collapsed": false,
    "pycharm": {
     "name": "#%%\n"
    }
   }
  },
  {
   "cell_type": "markdown",
   "source": [
    "#### Using the geopy library to get the latitude and longitude values of Boston."
   ],
   "metadata": {
    "collapsed": false,
    "pycharm": {
     "name": "#%% md\n"
    }
   }
  },
  {
   "cell_type": "markdown",
   "source": [
    "In order to define an instance of the geocoder, we need to define a user_agent. We\n",
    "will name our agent <em>boston_explores</em>, as shown below."
   ],
   "metadata": {
    "collapsed": false
   }
  },
  {
   "cell_type": "code",
   "execution_count": 19,
   "outputs": [
    {
     "name": "stdout",
     "output_type": "stream",
     "text": [
      "The geographical coordinate of Boston are 42.3602534, -71.0582912.\n"
     ]
    }
   ],
   "source": [
    "address = 'Boston, MA'\n",
    "\n",
    "geolocator = Nominatim(user_agent=\"boston_explores\")\n",
    "location = geolocator.geocode(address)\n",
    "latitude = location.latitude\n",
    "longitude = location.longitude\n",
    "\n",
    "print('The geographical coordinate of Boston are {}, {}.'.format(latitude, longitude))\n"
   ],
   "metadata": {
    "collapsed": false,
    "pycharm": {
     "name": "#%%\n"
    }
   }
  },
  {
   "cell_type": "markdown",
   "source": [
    "#### Create a map of Boston with neighborhoods superimposed on top."
   ],
   "metadata": {
    "collapsed": false,
    "pycharm": {
     "name": "#%% md\n"
    }
   }
  },
  {
   "cell_type": "code",
   "execution_count": 20,
   "outputs": [
    {
     "ename": "ValueError",
     "evalue": "Location should consist of two numerical values, but [[-71.12583076676759, 42.272212845889705], [-71.1257672032289, 42.27231595853639], [-71.12588130976181, 42.27211361071484], [-71.12583076676759, 42.272212845889705]] of type <class 'list'> is not convertible to float.",
     "output_type": "error",
     "traceback": [
      "\u001B[0;31m---------------------------------------------------------------------------\u001B[0m",
      "\u001B[0;31mTypeError\u001B[0m                                 Traceback (most recent call last)",
      "\u001B[0;32m/mnt/ExtraData/GitHub/.virtualenvs/datasciencelinux/lib/python3.7/site-packages/folium/utilities.py\u001B[0m in \u001B[0;36mvalidate_location\u001B[0;34m(location)\u001B[0m\n\u001B[1;32m     58\u001B[0m         \u001B[0;32mtry\u001B[0m\u001B[0;34m:\u001B[0m\u001B[0;34m\u001B[0m\u001B[0;34m\u001B[0m\u001B[0m\n\u001B[0;32m---> 59\u001B[0;31m             \u001B[0mfloat\u001B[0m\u001B[0;34m(\u001B[0m\u001B[0mcoord\u001B[0m\u001B[0;34m)\u001B[0m\u001B[0;34m\u001B[0m\u001B[0;34m\u001B[0m\u001B[0m\n\u001B[0m\u001B[1;32m     60\u001B[0m         \u001B[0;32mexcept\u001B[0m \u001B[0;34m(\u001B[0m\u001B[0mTypeError\u001B[0m\u001B[0;34m,\u001B[0m \u001B[0mValueError\u001B[0m\u001B[0;34m)\u001B[0m\u001B[0;34m:\u001B[0m\u001B[0;34m\u001B[0m\u001B[0;34m\u001B[0m\u001B[0m\n",
      "\u001B[0;31mTypeError\u001B[0m: float() argument must be a string or a number, not 'list'",
      "\nDuring handling of the above exception, another exception occurred:\n",
      "\u001B[0;31mValueError\u001B[0m                                Traceback (most recent call last)",
      "\u001B[0;32m<ipython-input-20-c1941996131a>\u001B[0m in \u001B[0;36m<module>\u001B[0;34m\u001B[0m\n\u001B[1;32m     15\u001B[0m         \u001B[0mfill_color\u001B[0m\u001B[0;34m=\u001B[0m\u001B[0;34m'#3186cc'\u001B[0m\u001B[0;34m,\u001B[0m\u001B[0;34m\u001B[0m\u001B[0;34m\u001B[0m\u001B[0m\n\u001B[1;32m     16\u001B[0m         \u001B[0mfill_opacity\u001B[0m\u001B[0;34m=\u001B[0m\u001B[0;36m0.7\u001B[0m\u001B[0;34m,\u001B[0m\u001B[0;34m\u001B[0m\u001B[0;34m\u001B[0m\u001B[0m\n\u001B[0;32m---> 17\u001B[0;31m         parse_html=False).add_to(map_boston)\n\u001B[0m\u001B[1;32m     18\u001B[0m \u001B[0;34m\u001B[0m\u001B[0m\n\u001B[1;32m     19\u001B[0m \u001B[0mmap_boston\u001B[0m\u001B[0;34m\u001B[0m\u001B[0;34m\u001B[0m\u001B[0m\n",
      "\u001B[0;32m/mnt/ExtraData/GitHub/.virtualenvs/datasciencelinux/lib/python3.7/site-packages/folium/vector_layers.py\u001B[0m in \u001B[0;36m__init__\u001B[0;34m(self, location, radius, popup, tooltip, **kwargs)\u001B[0m\n\u001B[1;32m    303\u001B[0m     \u001B[0;32mdef\u001B[0m \u001B[0m__init__\u001B[0m\u001B[0;34m(\u001B[0m\u001B[0mself\u001B[0m\u001B[0;34m,\u001B[0m \u001B[0mlocation\u001B[0m\u001B[0;34m,\u001B[0m \u001B[0mradius\u001B[0m\u001B[0;34m=\u001B[0m\u001B[0;36m10\u001B[0m\u001B[0;34m,\u001B[0m \u001B[0mpopup\u001B[0m\u001B[0;34m=\u001B[0m\u001B[0;32mNone\u001B[0m\u001B[0;34m,\u001B[0m \u001B[0mtooltip\u001B[0m\u001B[0;34m=\u001B[0m\u001B[0;32mNone\u001B[0m\u001B[0;34m,\u001B[0m \u001B[0;34m**\u001B[0m\u001B[0mkwargs\u001B[0m\u001B[0;34m)\u001B[0m\u001B[0;34m:\u001B[0m\u001B[0;34m\u001B[0m\u001B[0;34m\u001B[0m\u001B[0m\n\u001B[1;32m    304\u001B[0m         super(CircleMarker, self).__init__(location, popup=popup,\n\u001B[0;32m--> 305\u001B[0;31m                                            tooltip=tooltip)\n\u001B[0m\u001B[1;32m    306\u001B[0m         \u001B[0mself\u001B[0m\u001B[0;34m.\u001B[0m\u001B[0m_name\u001B[0m \u001B[0;34m=\u001B[0m \u001B[0;34m'CircleMarker'\u001B[0m\u001B[0;34m\u001B[0m\u001B[0;34m\u001B[0m\u001B[0m\n\u001B[1;32m    307\u001B[0m         \u001B[0mself\u001B[0m\u001B[0;34m.\u001B[0m\u001B[0moptions\u001B[0m \u001B[0;34m=\u001B[0m \u001B[0mpath_options\u001B[0m\u001B[0;34m(\u001B[0m\u001B[0mline\u001B[0m\u001B[0;34m=\u001B[0m\u001B[0;32mFalse\u001B[0m\u001B[0;34m,\u001B[0m \u001B[0mradius\u001B[0m\u001B[0;34m=\u001B[0m\u001B[0mradius\u001B[0m\u001B[0;34m,\u001B[0m \u001B[0;34m**\u001B[0m\u001B[0mkwargs\u001B[0m\u001B[0;34m)\u001B[0m\u001B[0;34m\u001B[0m\u001B[0;34m\u001B[0m\u001B[0m\n",
      "\u001B[0;32m/mnt/ExtraData/GitHub/.virtualenvs/datasciencelinux/lib/python3.7/site-packages/folium/map.py\u001B[0m in \u001B[0;36m__init__\u001B[0;34m(self, location, popup, tooltip, icon, draggable, **kwargs)\u001B[0m\n\u001B[1;32m    275\u001B[0m         \u001B[0msuper\u001B[0m\u001B[0;34m(\u001B[0m\u001B[0mMarker\u001B[0m\u001B[0;34m,\u001B[0m \u001B[0mself\u001B[0m\u001B[0;34m)\u001B[0m\u001B[0;34m.\u001B[0m\u001B[0m__init__\u001B[0m\u001B[0;34m(\u001B[0m\u001B[0;34m)\u001B[0m\u001B[0;34m\u001B[0m\u001B[0;34m\u001B[0m\u001B[0m\n\u001B[1;32m    276\u001B[0m         \u001B[0mself\u001B[0m\u001B[0;34m.\u001B[0m\u001B[0m_name\u001B[0m \u001B[0;34m=\u001B[0m \u001B[0;34m'Marker'\u001B[0m\u001B[0;34m\u001B[0m\u001B[0;34m\u001B[0m\u001B[0m\n\u001B[0;32m--> 277\u001B[0;31m         \u001B[0mself\u001B[0m\u001B[0;34m.\u001B[0m\u001B[0mlocation\u001B[0m \u001B[0;34m=\u001B[0m \u001B[0mvalidate_location\u001B[0m\u001B[0;34m(\u001B[0m\u001B[0mlocation\u001B[0m\u001B[0;34m)\u001B[0m\u001B[0;34m\u001B[0m\u001B[0;34m\u001B[0m\u001B[0m\n\u001B[0m\u001B[1;32m    278\u001B[0m         self.options = parse_options(\n\u001B[1;32m    279\u001B[0m             \u001B[0mdraggable\u001B[0m\u001B[0;34m=\u001B[0m\u001B[0mdraggable\u001B[0m \u001B[0;32mor\u001B[0m \u001B[0;32mNone\u001B[0m\u001B[0;34m,\u001B[0m\u001B[0;34m\u001B[0m\u001B[0;34m\u001B[0m\u001B[0m\n",
      "\u001B[0;32m/mnt/ExtraData/GitHub/.virtualenvs/datasciencelinux/lib/python3.7/site-packages/folium/utilities.py\u001B[0m in \u001B[0;36mvalidate_location\u001B[0;34m(location)\u001B[0m\n\u001B[1;32m     61\u001B[0m             raise ValueError('Location should consist of two numerical values, '\n\u001B[1;32m     62\u001B[0m                              \u001B[0;34m'but {!r} of type {} is not convertible to float.'\u001B[0m\u001B[0;34m\u001B[0m\u001B[0;34m\u001B[0m\u001B[0m\n\u001B[0;32m---> 63\u001B[0;31m                              .format(coord, type(coord)))\n\u001B[0m\u001B[1;32m     64\u001B[0m         \u001B[0;32mif\u001B[0m \u001B[0mmath\u001B[0m\u001B[0;34m.\u001B[0m\u001B[0misnan\u001B[0m\u001B[0;34m(\u001B[0m\u001B[0mfloat\u001B[0m\u001B[0;34m(\u001B[0m\u001B[0mcoord\u001B[0m\u001B[0;34m)\u001B[0m\u001B[0;34m)\u001B[0m\u001B[0;34m:\u001B[0m\u001B[0;34m\u001B[0m\u001B[0;34m\u001B[0m\u001B[0m\n\u001B[1;32m     65\u001B[0m             \u001B[0;32mraise\u001B[0m \u001B[0mValueError\u001B[0m\u001B[0;34m(\u001B[0m\u001B[0;34m'Location values cannot contain NaNs.'\u001B[0m\u001B[0;34m)\u001B[0m\u001B[0;34m\u001B[0m\u001B[0;34m\u001B[0m\u001B[0m\n",
      "\u001B[0;31mValueError\u001B[0m: Location should consist of two numerical values, but [[-71.12583076676759, 42.272212845889705], [-71.1257672032289, 42.27231595853639], [-71.12588130976181, 42.27211361071484], [-71.12583076676759, 42.272212845889705]] of type <class 'list'> is not convertible to float."
     ]
    }
   ],
   "source": [
    "# create map of New York using latitude and longitude values\n",
    "map_boston = folium.Map(location=[latitude, longitude], zoom_start=10)\n",
    "\n",
    "# add markers to map\n",
    "for lat, lng, neighborhood_name, neighborhood in zip(neighborhoods['Latitude'], neighborhoods['Longitude'],\n",
    "                                                     neighborhoods['Neighborhood'], neighborhoods['Neighborhood_ID']):\n",
    "    label = '{}, {}'.format(neighborhood, neighborhood_name)\n",
    "    label = folium.Popup(label, parse_html=True)\n",
    "    folium.CircleMarker(\n",
    "        [lat, lng],\n",
    "        radius=5,\n",
    "        popup=label,\n",
    "        color='blue',\n",
    "        fill=True,\n",
    "        fill_color='#3186cc',\n",
    "        fill_opacity=0.7,\n",
    "        parse_html=False).add_to(map_boston)\n",
    "\n",
    "map_boston\n"
   ],
   "metadata": {
    "collapsed": false,
    "pycharm": {
     "name": "#%%\n"
    }
   }
  }
 ],
 "metadata": {
  "kernelspec": {
   "display_name": "Python 3",
   "language": "python",
   "name": "python3"
  },
  "language_info": {
   "codemirror_mode": {
    "name": "ipython",
    "version": 2
   },
   "file_extension": ".py",
   "mimetype": "text/x-python",
   "name": "python",
   "nbconvert_exporter": "python",
   "pygments_lexer": "ipython2",
   "version": "2.7.6"
  }
 },
 "nbformat": 4,
 "nbformat_minor": 0
}